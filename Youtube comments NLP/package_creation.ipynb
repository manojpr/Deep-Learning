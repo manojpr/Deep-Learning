{
 "cells": [
  {
   "cell_type": "code",
   "execution_count": 1,
   "id": "b172cfdb",
   "metadata": {},
   "outputs": [
    {
     "name": "stdout",
     "output_type": "stream",
     "text": [
      "Writing scraping.py\n"
     ]
    }
   ],
   "source": [
    "%%writefile scraping.py\n",
    "from urllib.request import urlopen\n",
    "from bs4 import BeautifulSoup\n",
    "from selenium import webdriver\n",
    "import time\n",
    "\n",
    "from selenium.webdriver.common.by import By\n",
    "def scrapp(url):\n",
    "    driver = webdriver.Chrome('C:/Users/ACER/Py program/Web Scraping/chromedriver.exe')\n",
    "    driver.get(url)\n",
    "    time.sleep(10)\n",
    "    element=driver.find_elements(By.ID,\"main\")\n",
    "    comments=[]\n",
    "    flag=1\n",
    "    for i in element:\n",
    "        try:\n",
    "            #         print(i.find_element(By.ID,\"content-text\").text)\n",
    "            #         print(\"~\"*30)\n",
    "            dummy=i.find_element(By.ID,\"content-text\").text\n",
    "            comments.append(dummy)\n",
    "        except:\n",
    "            break\n",
    "    import pandas as pd\n",
    "    df=pd.DataFrame(comments)\n",
    "    df.reset_index(inplace=True)\n",
    "    df.drop(['index'],axis=1,inplace=True)\n",
    "    df.columns = [\"comments\"]\n",
    "    return df"
   ]
  },
  {
   "cell_type": "code",
   "execution_count": 2,
   "id": "34e97534",
   "metadata": {},
   "outputs": [],
   "source": [
    "import scraping as scc\n",
    "df=scc.scrapp(\"https://www.youtube.com/watch?v=MSBY28IJ47U&t=29s\")"
   ]
  },
  {
   "cell_type": "code",
   "execution_count": 3,
   "id": "6e014efc",
   "metadata": {},
   "outputs": [
    {
     "data": {
      "text/html": [
       "<div>\n",
       "<style scoped>\n",
       "    .dataframe tbody tr th:only-of-type {\n",
       "        vertical-align: middle;\n",
       "    }\n",
       "\n",
       "    .dataframe tbody tr th {\n",
       "        vertical-align: top;\n",
       "    }\n",
       "\n",
       "    .dataframe thead th {\n",
       "        text-align: right;\n",
       "    }\n",
       "</style>\n",
       "<table border=\"1\" class=\"dataframe\">\n",
       "  <thead>\n",
       "    <tr style=\"text-align: right;\">\n",
       "      <th></th>\n",
       "      <th>comments</th>\n",
       "    </tr>\n",
       "  </thead>\n",
       "  <tbody>\n",
       "    <tr>\n",
       "      <th>0</th>\n",
       "      <td>Do you want to learn technology from me? Check...</td>\n",
       "    </tr>\n",
       "    <tr>\n",
       "      <th>1</th>\n",
       "      <td>You have such an  amazing talent to simplify c...</td>\n",
       "    </tr>\n",
       "    <tr>\n",
       "      <th>2</th>\n",
       "      <td>After long search I found ANN for classificati...</td>\n",
       "    </tr>\n",
       "    <tr>\n",
       "      <th>3</th>\n",
       "      <td>Clarification: This video was just to demonstr...</td>\n",
       "    </tr>\n",
       "    <tr>\n",
       "      <th>4</th>\n",
       "      <td>Instead of using threshold value for making yp...</td>\n",
       "    </tr>\n",
       "  </tbody>\n",
       "</table>\n",
       "</div>"
      ],
      "text/plain": [
       "                                            comments\n",
       "0  Do you want to learn technology from me? Check...\n",
       "1  You have such an  amazing talent to simplify c...\n",
       "2  After long search I found ANN for classificati...\n",
       "3  Clarification: This video was just to demonstr...\n",
       "4  Instead of using threshold value for making yp..."
      ]
     },
     "execution_count": 3,
     "metadata": {},
     "output_type": "execute_result"
    }
   ],
   "source": [
    "df.head()"
   ]
  },
  {
   "cell_type": "code",
   "execution_count": 4,
   "id": "822a8dc4",
   "metadata": {},
   "outputs": [
    {
     "data": {
      "text/plain": [
       "(60, 1)"
      ]
     },
     "execution_count": 4,
     "metadata": {},
     "output_type": "execute_result"
    }
   ],
   "source": [
    "df.shape"
   ]
  },
  {
   "cell_type": "code",
   "execution_count": null,
   "id": "bc38458d",
   "metadata": {},
   "outputs": [],
   "source": []
  }
 ],
 "metadata": {
  "kernelspec": {
   "display_name": "Python 3 (ipykernel)",
   "language": "python",
   "name": "python3"
  },
  "language_info": {
   "codemirror_mode": {
    "name": "ipython",
    "version": 3
   },
   "file_extension": ".py",
   "mimetype": "text/x-python",
   "name": "python",
   "nbconvert_exporter": "python",
   "pygments_lexer": "ipython3",
   "version": "3.9.12"
  }
 },
 "nbformat": 4,
 "nbformat_minor": 5
}
